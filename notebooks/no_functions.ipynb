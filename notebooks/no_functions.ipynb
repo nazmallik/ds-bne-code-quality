{
 "cells": [
  {
   "cell_type": "markdown",
   "id": "3c44dc62",
   "metadata": {},
   "source": [
    "# Test notebook\n",
    "We use this notebook to test whether a notebook contains functions when running \n",
    "```\n",
    "python src/notebook_analyser.py {PATH1} {PATH2} {PATHN}\n",
    "```\n",
    "\n",
    "Expected output should be: \n",
    "```\n",
    "    python src/notebook_analyser.py notebooks\n",
    "    notebook_analyser: notebooks\\no_functions.ipynb has no functions in it :)\n",
    "```"
   ]
  },
  {
   "cell_type": "code",
   "execution_count": 7,
   "id": "6c0a0743",
   "metadata": {},
   "outputs": [],
   "source": [
    "import math\n",
    "\n",
    "a = math.ceil(2.5) \n",
    "b = math.floor(4.2)"
   ]
  },
  {
   "cell_type": "code",
   "execution_count": 8,
   "id": "cb3ccc57",
   "metadata": {},
   "outputs": [
    {
     "data": {
      "text/plain": [
       "7"
      ]
     },
     "execution_count": 8,
     "metadata": {},
     "output_type": "execute_result"
    }
   ],
   "source": [
    "a+b"
   ]
  }
 ],
 "metadata": {
  "kernelspec": {
   "display_name": "Python 3",
   "language": "python",
   "name": "python3"
  },
  "language_info": {
   "codemirror_mode": {
    "name": "ipython",
    "version": 3
   },
   "file_extension": ".py",
   "mimetype": "text/x-python",
   "name": "python",
   "nbconvert_exporter": "python",
   "pygments_lexer": "ipython3",
   "version": "3.8.8"
  }
 },
 "nbformat": 4,
 "nbformat_minor": 5
}
