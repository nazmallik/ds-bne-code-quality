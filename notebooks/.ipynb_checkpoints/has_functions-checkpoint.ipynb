{
 "cells": [
  {
   "cell_type": "markdown",
   "id": "fa7b1d8c",
   "metadata": {},
   "source": [
    "# Test notebook \n",
    "We use this notebook to test whether a notebook contains functions when running \n",
    "```\n",
    "python src/notebook_analyser.py {PATH1} {PATH2} {PATHN}\n",
    "```\n",
    "\n",
    "Expected output should be: \n",
    "```\n",
    "    python src/notebook_analyser.py notebooks\n",
    "    notebook_analyser: notebooks\\has_functions.ipynb has function in cell number 1\n",
    "    notebook_analyser: notebooks\\has_functions.ipynb has function in cell number 2\n",
    "```"
   ]
  },
  {
   "cell_type": "code",
   "execution_count": 1,
   "id": "57859b72",
   "metadata": {},
   "outputs": [],
   "source": [
    "def test_func(var1, var2):\n",
    "    return var1 + var2"
   ]
  },
  {
   "cell_type": "code",
   "execution_count": 3,
   "id": "e7631f1e",
   "metadata": {},
   "outputs": [],
   "source": [
    "def test_func2(var1, var2):\n",
    "    return var1 + var2"
   ]
  },
  {
   "cell_type": "code",
   "execution_count": null,
   "id": "f7732b29",
   "metadata": {},
   "outputs": [],
   "source": []
  }
 ],
 "metadata": {
  "kernelspec": {
   "display_name": "Python 3",
   "language": "python",
   "name": "python3"
  },
  "language_info": {
   "codemirror_mode": {
    "name": "ipython",
    "version": 3
   },
   "file_extension": ".py",
   "mimetype": "text/x-python",
   "name": "python",
   "nbconvert_exporter": "python",
   "pygments_lexer": "ipython3",
   "version": "3.8.8"
  }
 },
 "nbformat": 4,
 "nbformat_minor": 5
}
